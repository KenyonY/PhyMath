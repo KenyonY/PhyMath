{
 "cells": [
  {
   "cell_type": "markdown",
   "metadata": {},
   "source": [
    "https://github.com/kkroening/ffmpeg-python/blob/master/examples/README.md#tensorflow-streaming  \n",
    "https://kkroening.github.io/ffmpeg-python/"
   ]
  },
  {
   "cell_type": "code",
   "execution_count": 5,
   "metadata": {},
   "outputs": [],
   "source": [
    "import time"
   ]
  },
  {
   "cell_type": "code",
   "execution_count": 44,
   "metadata": {},
   "outputs": [],
   "source": [
    "a= 556123452"
   ]
  },
  {
   "cell_type": "code",
   "execution_count": 109,
   "metadata": {},
   "outputs": [
    {
     "name": "stdout",
     "output_type": "stream",
     "text": [
      "86.03525161743164 4448987616\n",
      "87.99910545349121 4448987616\n"
     ]
    }
   ],
   "source": [
    "t0 = time.time()\n",
    "for i in range(1000000):\n",
    "    res = a*(2**3)\n",
    "t1 = time.time()\n",
    "\n",
    "print((t1-t0)*1000, res)\n",
    "\n",
    "t0 = time.time()\n",
    "for i in range(1000000):\n",
    "    res = a << 3\n",
    "t1 = time.time()\n",
    "\n",
    "print((t1-t0)*1000, res)"
   ]
  },
  {
   "cell_type": "code",
   "execution_count": 99,
   "metadata": {},
   "outputs": [
    {
     "name": "stdout",
     "output_type": "stream",
     "text": [
      "104.04777526855469 4448987616\n"
     ]
    }
   ],
   "source": []
  },
  {
   "cell_type": "code",
   "execution_count": 59,
   "metadata": {},
   "outputs": [
    {
     "data": {
      "text/latex": [
       "$\\displaystyle \\left( 69515431.5, \\  1\\right)$"
      ],
      "text/plain": [
       "(69515431.5, 1)"
      ]
     },
     "execution_count": 59,
     "metadata": {},
     "output_type": "execute_result"
    }
   ],
   "source": [
    "a/(2**3), res"
   ]
  },
  {
   "cell_type": "code",
   "execution_count": 49,
   "metadata": {},
   "outputs": [
    {
     "data": {
      "text/latex": [
       "$\\displaystyle 5242880$"
      ],
      "text/plain": [
       "5242880"
      ]
     },
     "execution_count": 49,
     "metadata": {},
     "output_type": "execute_result"
    }
   ],
   "source": [
    "res "
   ]
  },
  {
   "cell_type": "code",
   "execution_count": null,
   "metadata": {},
   "outputs": [],
   "source": []
  },
  {
   "cell_type": "code",
   "execution_count": 1,
   "metadata": {},
   "outputs": [],
   "source": [
    "import ffmpeg"
   ]
  },
  {
   "cell_type": "code",
   "execution_count": 2,
   "metadata": {},
   "outputs": [],
   "source": [
    "videopath = \"sourceofhuman.avi\""
   ]
  },
  {
   "cell_type": "code",
   "execution_count": 6,
   "metadata": {},
   "outputs": [],
   "source": [
    "s = ffmpeg.input(videopath)\n",
    "s = ffmpeg.hflip(s)\n",
    "s = ffmpeg.output(s, \"mp4.avi\")\n",
    "ffmpeg.run(s)"
   ]
  },
  {
   "cell_type": "code",
   "execution_count": 3,
   "metadata": {},
   "outputs": [
    {
     "data": {
      "text/plain": [
       "(None, None)"
      ]
     },
     "execution_count": 3,
     "metadata": {},
     "output_type": "execute_result"
    }
   ],
   "source": [
    "(\n",
    "    ffmpeg\n",
    "    .input(videopath)\n",
    "    .hflip()\n",
    "    .output('output2.mp4')\n",
    "    .run()\n",
    ")"
   ]
  },
  {
   "cell_type": "markdown",
   "metadata": {},
   "source": [
    "## Get video info (ffprobe)"
   ]
  },
  {
   "cell_type": "code",
   "execution_count": null,
   "metadata": {},
   "outputs": [],
   "source": [
    "\n",
    "probe = ffmpeg.probe(args.in_filename)\n",
    "video_stream = next((stream for stream in probe['streams'] if stream['codec_type'] == 'video'), None)\n",
    "width = int(video_stream['width'])\n",
    "height = int(video_stream['height'])"
   ]
  },
  {
   "cell_type": "markdown",
   "metadata": {},
   "source": [
    "## Generate thumbnail for video"
   ]
  },
  {
   "cell_type": "code",
   "execution_count": null,
   "metadata": {},
   "outputs": [],
   "source": [
    "(\n",
    "    ffmpeg\n",
    "    .input(in_filename, ss=time)\n",
    "    .filter('scale', width, -1)\n",
    "    .output(out_filename, vframes=1)\n",
    "    .run()\n",
    ")"
   ]
  },
  {
   "cell_type": "markdown",
   "metadata": {},
   "source": [
    "## Convert video to numpy array"
   ]
  },
  {
   "cell_type": "code",
   "execution_count": null,
   "metadata": {},
   "outputs": [],
   "source": [
    "out, _ = (\n",
    "    ffmpeg\n",
    "    .input('in.mp4')\n",
    "    .output('pipe:', format='rawvideo', pix_fmt='rgb24')\n",
    "    .run(capture_stdout=True)\n",
    ")\n",
    "video = (\n",
    "    np\n",
    "    .frombuffer(out, np.uint8)\n",
    "    .reshape([-1, height, width, 3])\n",
    ")"
   ]
  },
  {
   "cell_type": "markdown",
   "metadata": {},
   "source": [
    "## Read single video frame as jpeg through pipe"
   ]
  },
  {
   "cell_type": "code",
   "execution_count": null,
   "metadata": {},
   "outputs": [],
   "source": [
    "out, _ = (\n",
    "    ffmpeg\n",
    "    .input(in_filename)\n",
    "    .filter('select', 'gte(n,{})'.format(frame_num))\n",
    "    .output('pipe:', vframes=1, format='image2', vcodec='mjpeg')\n",
    "    .run(capture_stdout=True)\n",
    ")"
   ]
  },
  {
   "cell_type": "markdown",
   "metadata": {},
   "source": [
    "## Convert sound to raw PCM audio"
   ]
  },
  {
   "cell_type": "code",
   "execution_count": null,
   "metadata": {},
   "outputs": [],
   "source": [
    "out, _ = (ffmpeg\n",
    "    .input(in_filename, **input_kwargs)\n",
    "    .output('-', format='s16le', acodec='pcm_s16le', ac=1, ar='16k')\n",
    "    .overwrite_output()\n",
    "    .run(capture_stdout=True)\n",
    ")"
   ]
  },
  {
   "cell_type": "markdown",
   "metadata": {},
   "source": [
    "## 从帧序列组装视频(glob)"
   ]
  },
  {
   "cell_type": "code",
   "execution_count": null,
   "metadata": {},
   "outputs": [],
   "source": [
    "(\n",
    "    ffmpeg\n",
    "    .input('/path/to/jpegs/*.jpg', pattern_type='glob', framerate=25)\n",
    "    .output('movie.mp4')\n",
    "    .run()\n",
    ")"
   ]
  },
  {
   "cell_type": "code",
   "execution_count": null,
   "metadata": {},
   "outputs": [],
   "source": [
    "## glob filter"
   ]
  },
  {
   "cell_type": "code",
   "execution_count": null,
   "metadata": {},
   "outputs": [],
   "source": [
    "(\n",
    "    ffmpeg\n",
    "    .input('/path/to/jpegs/*.jpg', pattern_type='glob', framerate=25)\n",
    "    .filter('deflicker', mode='pm', size=10)\n",
    "    .filter('scale', size='hd1080', force_original_aspect_ratio='increase')\n",
    "    .output('movie.mp4', crf=20, preset='slower', movflags='faststart', pix_fmt='yuv420p')\n",
    "    .view(filename='filter_graph')\n",
    "    .run()\n",
    ")"
   ]
  }
 ],
 "metadata": {
  "kernelspec": {
   "display_name": "Python [conda env:tf2]",
   "language": "python",
   "name": "conda-env-tf2-py"
  },
  "language_info": {
   "codemirror_mode": {
    "name": "ipython",
    "version": 3
   },
   "file_extension": ".py",
   "mimetype": "text/x-python",
   "name": "python",
   "nbconvert_exporter": "python",
   "pygments_lexer": "ipython3",
   "version": "3.6.8"
  }
 },
 "nbformat": 4,
 "nbformat_minor": 4
}
