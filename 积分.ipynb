{
 "cells": [
  {
   "cell_type": "code",
   "execution_count": 16,
   "metadata": {},
   "outputs": [],
   "source": [
    "import cupy as cp\n",
    "import scipy\n",
    "from scipy import integrate"
   ]
  },
  {
   "cell_type": "markdown",
   "metadata": {},
   "source": [
    "计算：\n",
    "$$\n",
    "\\pi = I(f) =\\int_{0}^{1}\\frac{4}{1+x^2}dx\n",
    "$$\n"
   ]
  },
  {
   "cell_type": "code",
   "execution_count": 17,
   "metadata": {},
   "outputs": [],
   "source": [
    "def f(x):\n",
    "    return 4/(1+cp.power(x, 2))"
   ]
  },
  {
   "cell_type": "code",
   "execution_count": 22,
   "metadata": {},
   "outputs": [
    {
     "name": "stdout",
     "output_type": "stream",
     "text": [
      "Wall time: 8 ms\n"
     ]
    },
    {
     "data": {
      "text/latex": [
       "$\\displaystyle \\left( 3.141592653589794, \\  3.4878684980086326e-14\\right)$"
      ],
      "text/plain": [
       "(3.141592653589794, 3.4878684980086326e-14)"
      ]
     },
     "execution_count": 22,
     "metadata": {},
     "output_type": "execute_result"
    }
   ],
   "source": [
    "%%time\n",
    "# 积分：\n",
    "integrate.quad(f, 0, 1)"
   ]
  },
  {
   "cell_type": "code",
   "execution_count": 19,
   "metadata": {},
   "outputs": [],
   "source": [
    "def integ1d(f, x1, xn, n):\n",
    "    x = cp.linspace(x1, xn, n)\n",
    "    stepx = (xn - x1)/n\n",
    "    return cp.sum(f(x)) * stepx"
   ]
  },
  {
   "cell_type": "code",
   "execution_count": 20,
   "metadata": {},
   "outputs": [],
   "source": [
    "def g(x):\n",
    "    return 4/(1+cp.power(x, 2))\n",
    "\n",
    "def fg(x):\n",
    "    return f(x) * g(x)"
   ]
  },
  {
   "cell_type": "code",
   "execution_count": 24,
   "metadata": {},
   "outputs": [
    {
     "data": {
      "text/latex": [
       "$\\displaystyle \\left( 10.283185307179588, \\  1.1416629094517891e-13\\right)$"
      ],
      "text/plain": [
       "(10.283185307179588, 1.1416629094517891e-13)"
      ]
     },
     "execution_count": 24,
     "metadata": {},
     "output_type": "execute_result"
    }
   ],
   "source": [
    "integrate.quad(fg, 0, 1)"
   ]
  },
  {
   "cell_type": "code",
   "execution_count": 25,
   "metadata": {},
   "outputs": [],
   "source": [
    "def integ1D(f,g, x1, xn, n):\n",
    "    x = cp.linspace(x1, xn, n)\n",
    "    stepx = (xn - x1)/n\n",
    "    return cp.dot(f(x), g(x)) * stepx"
   ]
  },
  {
   "cell_type": "code",
   "execution_count": 34,
   "metadata": {},
   "outputs": [
    {
     "data": {
      "text/plain": [
       "array(10.28318248)"
      ]
     },
     "execution_count": 34,
     "metadata": {},
     "output_type": "execute_result"
    }
   ],
   "source": [
    "integ1D(f, g, 0, 1, 100000)"
   ]
  },
  {
   "cell_type": "markdown",
   "metadata": {},
   "source": [
    "# 二维积分\n",
    "下面例子的函数见：  \n",
    "https://www.cnblogs.com/Yanjy-OnlyOne/p/11185582.html  \n",
    "$$I(f(x, y))=\\int_{1}^{2} \\int_{1}^{x} x y d x d y$$"
   ]
  },
  {
   "cell_type": "code",
   "execution_count": 106,
   "metadata": {},
   "outputs": [],
   "source": [
    "def f(x, y):\n",
    "    return x * y\n",
    "def h(x):\n",
    "    return x\n",
    "\n",
    "v, err = integrate.dblquad(f, 1, 2, lambda x: 1, 2) # 简化函数，矩形积分边界，而不是上面例子中的三角形边界"
   ]
  },
  {
   "cell_type": "code",
   "execution_count": 107,
   "metadata": {},
   "outputs": [
    {
     "data": {
      "text/latex": [
       "$\\displaystyle 2.2499999999999996$"
      ],
      "text/plain": [
       "2.2499999999999996"
      ]
     },
     "execution_count": 107,
     "metadata": {},
     "output_type": "execute_result"
    }
   ],
   "source": [
    "v"
   ]
  },
  {
   "cell_type": "code",
   "execution_count": 116,
   "metadata": {},
   "outputs": [
    {
     "data": {
      "text/plain": [
       "array([[1, 2, 3],\n",
       "       [4, 5, 6]])"
      ]
     },
     "execution_count": 116,
     "metadata": {},
     "output_type": "execute_result"
    }
   ],
   "source": [
    "cp.array([[1,2,3],[4,5,6]])"
   ]
  },
  {
   "cell_type": "code",
   "execution_count": 122,
   "metadata": {},
   "outputs": [],
   "source": [
    "a = np.array([[1,2],[3,4]])\n",
    "b = np.array([[3,4],[5,6]])"
   ]
  },
  {
   "cell_type": "code",
   "execution_count": 127,
   "metadata": {},
   "outputs": [],
   "source": [
    "a = np.array([[1,2]])\n",
    "b = np.array([[3,4]])"
   ]
  },
  {
   "cell_type": "code",
   "execution_count": 130,
   "metadata": {},
   "outputs": [
    {
     "data": {
      "text/plain": [
       "array([-2])"
      ]
     },
     "execution_count": 130,
     "metadata": {},
     "output_type": "execute_result"
    }
   ],
   "source": [
    "np.cross(np.array(a), np.array(b))"
   ]
  },
  {
   "cell_type": "code",
   "execution_count": 125,
   "metadata": {},
   "outputs": [],
   "source": [
    "res = np.kron(a, b)"
   ]
  },
  {
   "cell_type": "code",
   "execution_count": 126,
   "metadata": {},
   "outputs": [
    {
     "data": {
      "text/latex": [
       "$\\displaystyle 16.000000000000078$"
      ],
      "text/plain": [
       "16.000000000000078"
      ]
     },
     "execution_count": 126,
     "metadata": {},
     "output_type": "execute_result"
    }
   ],
   "source": [
    "np.linalg.det(res)"
   ]
  },
  {
   "cell_type": "code",
   "execution_count": null,
   "metadata": {},
   "outputs": [],
   "source": []
  },
  {
   "cell_type": "code",
   "execution_count": 120,
   "metadata": {},
   "outputs": [
    {
     "ename": "AttributeError",
     "evalue": "module 'cupy' has no attribute 'cross'",
     "output_type": "error",
     "traceback": [
      "\u001b[1;31m---------------------------------------------------------------------------\u001b[0m",
      "\u001b[1;31mAttributeError\u001b[0m                            Traceback (most recent call last)",
      "\u001b[1;32m<ipython-input-120-7fd774644c8d>\u001b[0m in \u001b[0;36m<module>\u001b[1;34m\u001b[0m\n\u001b[1;32m----> 1\u001b[1;33m \u001b[0mcp\u001b[0m\u001b[1;33m.\u001b[0m\u001b[0mcross\u001b[0m\u001b[1;33m(\u001b[0m\u001b[0ma\u001b[0m\u001b[1;33m,\u001b[0m \u001b[0mb\u001b[0m\u001b[1;33m)\u001b[0m\u001b[1;33m\u001b[0m\u001b[1;33m\u001b[0m\u001b[0m\n\u001b[0m",
      "\u001b[1;31mAttributeError\u001b[0m: module 'cupy' has no attribute 'cross'"
     ]
    }
   ],
   "source": [
    "cp.cross(a, b)"
   ]
  },
  {
   "cell_type": "code",
   "execution_count": null,
   "metadata": {},
   "outputs": [],
   "source": []
  },
  {
   "cell_type": "code",
   "execution_count": 104,
   "metadata": {},
   "outputs": [],
   "source": [
    "from pprint import pprint\n",
    "def integ2d(f,g, x1, xn, y1, yn, n):\n",
    "    x = cp.linspace(x1, xn, n)[None,...]\n",
    "    y = cp.linspace(y1, yn, n)[...,None]\n",
    "    stepx = (xn - x1)/n\n",
    "    stepy = (yn - y1)/n\n",
    "    res = cp.kron(x, y)\n",
    "    pprint(res, width=200, depth=2)\n",
    "    return cp.linalg.det(res)"
   ]
  },
  {
   "cell_type": "code",
   "execution_count": 105,
   "metadata": {},
   "outputs": [
    {
     "name": "stdout",
     "output_type": "stream",
     "text": [
      "array([[1.        , 1.11111111, 1.22222222, 1.33333333, 1.44444444,\n",
      "        1.55555556, 1.66666667, 1.77777778, 1.88888889, 2.        ],\n",
      "       [1.11111111, 1.2345679 , 1.35802469, 1.48148148, 1.60493827,\n",
      "        1.72839506, 1.85185185, 1.97530864, 2.09876543, 2.22222222],\n",
      "       [1.22222222, 1.35802469, 1.49382716, 1.62962963, 1.7654321 ,\n",
      "        1.90123457, 2.03703704, 2.17283951, 2.30864198, 2.44444444],\n",
      "       [1.33333333, 1.48148148, 1.62962963, 1.77777778, 1.92592593,\n",
      "        2.07407407, 2.22222222, 2.37037037, 2.51851852, 2.66666667],\n",
      "       [1.44444444, 1.60493827, 1.7654321 , 1.92592593, 2.08641975,\n",
      "        2.24691358, 2.40740741, 2.56790123, 2.72839506, 2.88888889],\n",
      "       [1.55555556, 1.72839506, 1.90123457, 2.07407407, 2.24691358,\n",
      "        2.41975309, 2.59259259, 2.7654321 , 2.9382716 , 3.11111111],\n",
      "       [1.66666667, 1.85185185, 2.03703704, 2.22222222, 2.40740741,\n",
      "        2.59259259, 2.77777778, 2.96296296, 3.14814815, 3.33333333],\n",
      "       [1.77777778, 1.97530864, 2.17283951, 2.37037037, 2.56790123,\n",
      "        2.7654321 , 2.96296296, 3.16049383, 3.35802469, 3.55555556],\n",
      "       [1.88888889, 2.09876543, 2.30864198, 2.51851852, 2.72839506,\n",
      "        2.9382716 , 3.14814815, 3.35802469, 3.56790123, 3.77777778],\n",
      "       [2.        , 2.22222222, 2.44444444, 2.66666667, 2.88888889,\n",
      "        3.11111111, 3.33333333, 3.55555556, 3.77777778, 4.        ]])\n"
     ]
    },
    {
     "data": {
      "text/plain": [
       "array(0.)"
      ]
     },
     "execution_count": 105,
     "metadata": {},
     "output_type": "execute_result"
    }
   ],
   "source": [
    "integ2d(f, g, 1, 2, 1, 2, 100)"
   ]
  },
  {
   "cell_type": "code",
   "execution_count": 100,
   "metadata": {},
   "outputs": [
    {
     "data": {
      "text/latex": [
       "$\\displaystyle -2.0000000000000004$"
      ],
      "text/plain": [
       "-2.0000000000000004"
      ]
     },
     "execution_count": 100,
     "metadata": {},
     "output_type": "execute_result"
    }
   ],
   "source": [
    "np.linalg.det(np.array([[1, 2], [3, 4]]))"
   ]
  },
  {
   "cell_type": "code",
   "execution_count": null,
   "metadata": {},
   "outputs": [],
   "source": []
  },
  {
   "cell_type": "code",
   "execution_count": 101,
   "metadata": {},
   "outputs": [
    {
     "data": {
      "text/plain": [
       "array(-2.)"
      ]
     },
     "execution_count": 101,
     "metadata": {},
     "output_type": "execute_result"
    }
   ],
   "source": [
    "cp.linalg.det(cp.array([[1, 2], [3, 4]]))"
   ]
  },
  {
   "cell_type": "code",
   "execution_count": 47,
   "metadata": {},
   "outputs": [],
   "source": [
    "a = np.ones((5,5))"
   ]
  },
  {
   "cell_type": "code",
   "execution_count": 48,
   "metadata": {},
   "outputs": [
    {
     "data": {
      "text/plain": [
       "array([[1., 1., 1., 1., 1.],\n",
       "       [1., 1., 1., 1., 1.],\n",
       "       [1., 1., 1., 1., 1.],\n",
       "       [1., 1., 1., 1., 1.],\n",
       "       [1., 1., 1., 1., 1.]])"
      ]
     },
     "execution_count": 48,
     "metadata": {},
     "output_type": "execute_result"
    }
   ],
   "source": [
    "a"
   ]
  },
  {
   "cell_type": "code",
   "execution_count": 49,
   "metadata": {},
   "outputs": [
    {
     "data": {
      "text/latex": [
       "$\\displaystyle 0.0$"
      ],
      "text/plain": [
       "0.0"
      ]
     },
     "execution_count": 49,
     "metadata": {},
     "output_type": "execute_result"
    }
   ],
   "source": [
    "np.linalg.det(a)"
   ]
  },
  {
   "cell_type": "code",
   "execution_count": null,
   "metadata": {},
   "outputs": [],
   "source": []
  }
 ],
 "metadata": {
  "kernelspec": {
   "display_name": "Python [conda env:tf2]",
   "language": "python",
   "name": "conda-env-tf2-py"
  },
  "language_info": {
   "codemirror_mode": {
    "name": "ipython",
    "version": 3
   },
   "file_extension": ".py",
   "mimetype": "text/x-python",
   "name": "python",
   "nbconvert_exporter": "python",
   "pygments_lexer": "ipython3",
   "version": "3.6.8"
  }
 },
 "nbformat": 4,
 "nbformat_minor": 4
}
